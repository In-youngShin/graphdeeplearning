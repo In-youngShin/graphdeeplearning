{
  "cells": [
    {
      "cell_type": "code",
      "execution_count": null,
      "metadata": {
        "colab": {
          "base_uri": "https://localhost:8080/"
        },
        "id": "ltBP4c2QGnbr",
        "outputId": "1fdfd6c7-4618-4f0c-b555-47d869b579d5"
      },
      "outputs": [
        {
          "name": "stdout",
          "output_type": "stream",
          "text": [
            "Requirement already satisfied: networkx in /usr/local/lib/python3.10/dist-packages (3.2.1)\n"
          ]
        }
      ],
      "source": [
        "!pip install networkx\n",
        "!pip install numpy\n",
        "!pip install pandas\n",
        "!pip install matplotlib.pyplot"
      ]
    },
    {
      "cell_type": "code",
      "execution_count": null,
      "metadata": {
        "colab": {
          "base_uri": "https://localhost:8080/"
        },
        "id": "785DYe3UbO1c",
        "outputId": "12857856-816b-4cf6-cb2e-4dbe0d797f72"
      },
      "outputs": [
        {
          "name": "stdout",
          "output_type": "stream",
          "text": [
            "Requirement already satisfied: torch in /usr/local/lib/python3.10/dist-packages (2.1.0+cu118)\n",
            "Requirement already satisfied: filelock in /usr/local/lib/python3.10/dist-packages (from torch) (3.13.1)\n",
            "Requirement already satisfied: typing-extensions in /usr/local/lib/python3.10/dist-packages (from torch) (4.5.0)\n",
            "Requirement already satisfied: sympy in /usr/local/lib/python3.10/dist-packages (from torch) (1.12)\n",
            "Requirement already satisfied: networkx in /usr/local/lib/python3.10/dist-packages (from torch) (3.2.1)\n",
            "Requirement already satisfied: jinja2 in /usr/local/lib/python3.10/dist-packages (from torch) (3.1.2)\n",
            "Requirement already satisfied: fsspec in /usr/local/lib/python3.10/dist-packages (from torch) (2023.6.0)\n",
            "Requirement already satisfied: triton==2.1.0 in /usr/local/lib/python3.10/dist-packages (from torch) (2.1.0)\n",
            "Requirement already satisfied: MarkupSafe>=2.0 in /usr/local/lib/python3.10/dist-packages (from jinja2->torch) (2.1.3)\n",
            "Requirement already satisfied: mpmath>=0.19 in /usr/local/lib/python3.10/dist-packages (from sympy->torch) (1.3.0)\n"
          ]
        }
      ],
      "source": [
        "!pip uninstall torch torchvision torchtext torchdata torchaudio --yes\n",
        "!pip install torch==2.1.0 torchvision==0.16.0 torchaudio==2.1.0"
      ]
    },
    {
      "cell_type": "code",
      "execution_count": null,
      "metadata": {
        "colab": {
          "base_uri": "https://localhost:8080/"
        },
        "id": "TESdYMsDHmji",
        "outputId": "48e86735-cb8f-4efa-c186-0827223b5776"
      },
      "outputs": [
        {
          "name": "stdout",
          "output_type": "stream",
          "text": [
            "Using torch 2.1.0+cu118\n"
          ]
        }
      ],
      "source": [
        "import networkx as nx\n",
        "import os\n",
        "import torch\n",
        "import pandas\n",
        "print(\"Using torch\", torch.__version__)"
      ]
    },
    {
      "cell_type": "code",
      "execution_count": null,
      "metadata": {
        "colab": {
          "base_uri": "https://localhost:8080/"
        },
        "id": "eHaUyCR1IR5-",
        "outputId": "3eceb410-aa3b-4288-f0b4-eab61467825f"
      },
      "outputs": [
        {
          "name": "stdout",
          "output_type": "stream",
          "text": [
            "Looking in links: https://data.pyg.org/whl/torch-2.1.0+cu118.html\n",
            "Collecting torch-scatter\n",
            "  Downloading https://data.pyg.org/whl/torch-2.1.0%2Bcu118/torch_scatter-2.1.2%2Bpt21cu118-cp310-cp310-linux_x86_64.whl (10.2 MB)\n",
            "\u001b[2K     \u001b[90m━━━━━━━━━━━━━━━━━━━━━━━━━━━━━━━━━━━━━━━━\u001b[0m \u001b[32m10.2/10.2 MB\u001b[0m \u001b[31m37.8 MB/s\u001b[0m eta \u001b[36m0:00:00\u001b[0m\n",
            "\u001b[?25hCollecting torch-sparse\n",
            "  Downloading https://data.pyg.org/whl/torch-2.1.0%2Bcu118/torch_sparse-0.6.18%2Bpt21cu118-cp310-cp310-linux_x86_64.whl (4.9 MB)\n",
            "\u001b[2K     \u001b[90m━━━━━━━━━━━━━━━━━━━━━━━━━━━━━━━━━━━━━━━━\u001b[0m \u001b[32m4.9/4.9 MB\u001b[0m \u001b[31m50.2 MB/s\u001b[0m eta \u001b[36m0:00:00\u001b[0m\n",
            "\u001b[?25hCollecting torch-cluster\n",
            "  Downloading https://data.pyg.org/whl/torch-2.1.0%2Bcu118/torch_cluster-1.6.3%2Bpt21cu118-cp310-cp310-linux_x86_64.whl (3.3 MB)\n",
            "\u001b[2K     \u001b[90m━━━━━━━━━━━━━━━━━━━━━━━━━━━━━━━━━━━━━━━━\u001b[0m \u001b[32m3.3/3.3 MB\u001b[0m \u001b[31m50.9 MB/s\u001b[0m eta \u001b[36m0:00:00\u001b[0m\n",
            "\u001b[?25hCollecting torch-spline-conv\n",
            "  Downloading https://data.pyg.org/whl/torch-2.1.0%2Bcu118/torch_spline_conv-1.2.2%2Bpt21cu118-cp310-cp310-linux_x86_64.whl (887 kB)\n",
            "\u001b[2K     \u001b[90m━━━━━━━━━━━━━━━━━━━━━━━━━━━━━━━━━━━━━━━━\u001b[0m \u001b[32m887.8/887.8 kB\u001b[0m \u001b[31m33.5 MB/s\u001b[0m eta \u001b[36m0:00:00\u001b[0m\n",
            "\u001b[?25hCollecting torch-geometric\n",
            "  Downloading torch_geometric-2.4.0-py3-none-any.whl (1.0 MB)\n",
            "\u001b[2K     \u001b[90m━━━━━━━━━━━━━━━━━━━━━━━━━━━━━━━━━━━━━━━━\u001b[0m \u001b[32m1.0/1.0 MB\u001b[0m \u001b[31m8.9 MB/s\u001b[0m eta \u001b[36m0:00:00\u001b[0m\n",
            "\u001b[?25hRequirement already satisfied: scipy in /usr/local/lib/python3.10/dist-packages (from torch-sparse) (1.11.4)\n",
            "Requirement already satisfied: tqdm in /usr/local/lib/python3.10/dist-packages (from torch-geometric) (4.66.1)\n",
            "Requirement already satisfied: numpy in /usr/local/lib/python3.10/dist-packages (from torch-geometric) (1.23.5)\n",
            "Requirement already satisfied: jinja2 in /usr/local/lib/python3.10/dist-packages (from torch-geometric) (3.1.2)\n",
            "Requirement already satisfied: requests in /usr/local/lib/python3.10/dist-packages (from torch-geometric) (2.31.0)\n",
            "Requirement already satisfied: pyparsing in /usr/local/lib/python3.10/dist-packages (from torch-geometric) (3.1.1)\n",
            "Requirement already satisfied: scikit-learn in /usr/local/lib/python3.10/dist-packages (from torch-geometric) (1.2.2)\n",
            "Requirement already satisfied: psutil>=5.8.0 in /usr/local/lib/python3.10/dist-packages (from torch-geometric) (5.9.5)\n",
            "Requirement already satisfied: MarkupSafe>=2.0 in /usr/local/lib/python3.10/dist-packages (from jinja2->torch-geometric) (2.1.3)\n",
            "Requirement already satisfied: charset-normalizer<4,>=2 in /usr/local/lib/python3.10/dist-packages (from requests->torch-geometric) (3.3.2)\n",
            "Requirement already satisfied: idna<4,>=2.5 in /usr/local/lib/python3.10/dist-packages (from requests->torch-geometric) (3.6)\n",
            "Requirement already satisfied: urllib3<3,>=1.21.1 in /usr/local/lib/python3.10/dist-packages (from requests->torch-geometric) (2.0.7)\n",
            "Requirement already satisfied: certifi>=2017.4.17 in /usr/local/lib/python3.10/dist-packages (from requests->torch-geometric) (2023.11.17)\n",
            "Requirement already satisfied: joblib>=1.1.1 in /usr/local/lib/python3.10/dist-packages (from scikit-learn->torch-geometric) (1.3.2)\n",
            "Requirement already satisfied: threadpoolctl>=2.0.0 in /usr/local/lib/python3.10/dist-packages (from scikit-learn->torch-geometric) (3.2.0)\n",
            "Installing collected packages: torch-spline-conv, torch-scatter, torch-sparse, torch-cluster, torch-geometric\n",
            "Successfully installed torch-cluster-1.6.3+pt21cu118 torch-geometric-2.4.0 torch-scatter-2.1.2+pt21cu118 torch-sparse-0.6.18+pt21cu118 torch-spline-conv-1.2.2+pt21cu118\n",
            "Collecting ogb\n",
            "  Downloading ogb-1.3.6-py3-none-any.whl (78 kB)\n",
            "\u001b[2K     \u001b[90m━━━━━━━━━━━━━━━━━━━━━━━━━━━━━━━━━━━━━━━━\u001b[0m \u001b[32m78.8/78.8 kB\u001b[0m \u001b[31m2.7 MB/s\u001b[0m eta \u001b[36m0:00:00\u001b[0m\n",
            "\u001b[?25hRequirement already satisfied: torch>=1.6.0 in /usr/local/lib/python3.10/dist-packages (from ogb) (2.1.0+cu118)\n",
            "Requirement already satisfied: numpy>=1.16.0 in /usr/local/lib/python3.10/dist-packages (from ogb) (1.23.5)\n",
            "Requirement already satisfied: tqdm>=4.29.0 in /usr/local/lib/python3.10/dist-packages (from ogb) (4.66.1)\n",
            "Requirement already satisfied: scikit-learn>=0.20.0 in /usr/local/lib/python3.10/dist-packages (from ogb) (1.2.2)\n",
            "Requirement already satisfied: pandas>=0.24.0 in /usr/local/lib/python3.10/dist-packages (from ogb) (1.5.3)\n",
            "Requirement already satisfied: six>=1.12.0 in /usr/local/lib/python3.10/dist-packages (from ogb) (1.16.0)\n",
            "Requirement already satisfied: urllib3>=1.24.0 in /usr/local/lib/python3.10/dist-packages (from ogb) (2.0.7)\n",
            "Collecting outdated>=0.2.0 (from ogb)\n",
            "  Downloading outdated-0.2.2-py2.py3-none-any.whl (7.5 kB)\n",
            "Requirement already satisfied: setuptools>=44 in /usr/local/lib/python3.10/dist-packages (from outdated>=0.2.0->ogb) (67.7.2)\n",
            "Collecting littleutils (from outdated>=0.2.0->ogb)\n",
            "  Downloading littleutils-0.2.2.tar.gz (6.6 kB)\n",
            "  Preparing metadata (setup.py) ... \u001b[?25l\u001b[?25hdone\n",
            "Requirement already satisfied: requests in /usr/local/lib/python3.10/dist-packages (from outdated>=0.2.0->ogb) (2.31.0)\n",
            "Requirement already satisfied: python-dateutil>=2.8.1 in /usr/local/lib/python3.10/dist-packages (from pandas>=0.24.0->ogb) (2.8.2)\n",
            "Requirement already satisfied: pytz>=2020.1 in /usr/local/lib/python3.10/dist-packages (from pandas>=0.24.0->ogb) (2023.3.post1)\n",
            "Requirement already satisfied: scipy>=1.3.2 in /usr/local/lib/python3.10/dist-packages (from scikit-learn>=0.20.0->ogb) (1.11.4)\n",
            "Requirement already satisfied: joblib>=1.1.1 in /usr/local/lib/python3.10/dist-packages (from scikit-learn>=0.20.0->ogb) (1.3.2)\n",
            "Requirement already satisfied: threadpoolctl>=2.0.0 in /usr/local/lib/python3.10/dist-packages (from scikit-learn>=0.20.0->ogb) (3.2.0)\n",
            "Requirement already satisfied: filelock in /usr/local/lib/python3.10/dist-packages (from torch>=1.6.0->ogb) (3.13.1)\n",
            "Requirement already satisfied: typing-extensions in /usr/local/lib/python3.10/dist-packages (from torch>=1.6.0->ogb) (4.5.0)\n",
            "Requirement already satisfied: sympy in /usr/local/lib/python3.10/dist-packages (from torch>=1.6.0->ogb) (1.12)\n",
            "Requirement already satisfied: networkx in /usr/local/lib/python3.10/dist-packages (from torch>=1.6.0->ogb) (3.2.1)\n",
            "Requirement already satisfied: jinja2 in /usr/local/lib/python3.10/dist-packages (from torch>=1.6.0->ogb) (3.1.2)\n",
            "Requirement already satisfied: fsspec in /usr/local/lib/python3.10/dist-packages (from torch>=1.6.0->ogb) (2023.6.0)\n",
            "Requirement already satisfied: triton==2.1.0 in /usr/local/lib/python3.10/dist-packages (from torch>=1.6.0->ogb) (2.1.0)\n",
            "Requirement already satisfied: MarkupSafe>=2.0 in /usr/local/lib/python3.10/dist-packages (from jinja2->torch>=1.6.0->ogb) (2.1.3)\n",
            "Requirement already satisfied: charset-normalizer<4,>=2 in /usr/local/lib/python3.10/dist-packages (from requests->outdated>=0.2.0->ogb) (3.3.2)\n",
            "Requirement already satisfied: idna<4,>=2.5 in /usr/local/lib/python3.10/dist-packages (from requests->outdated>=0.2.0->ogb) (3.6)\n",
            "Requirement already satisfied: certifi>=2017.4.17 in /usr/local/lib/python3.10/dist-packages (from requests->outdated>=0.2.0->ogb) (2023.11.17)\n",
            "Requirement already satisfied: mpmath>=0.19 in /usr/local/lib/python3.10/dist-packages (from sympy->torch>=1.6.0->ogb) (1.3.0)\n",
            "Building wheels for collected packages: littleutils\n",
            "  Building wheel for littleutils (setup.py) ... \u001b[?25l\u001b[?25hdone\n",
            "  Created wheel for littleutils: filename=littleutils-0.2.2-py3-none-any.whl size=7026 sha256=f4ad0b1e829687932dd4d7c2f48b95e5bc91d9d30393c57a380520b70b87d986\n",
            "  Stored in directory: /root/.cache/pip/wheels/3d/fe/b0/27a9892da57472e538c7452a721a9cf463cc03cf7379889266\n",
            "Successfully built littleutils\n",
            "Installing collected packages: littleutils, outdated, ogb\n",
            "Successfully installed littleutils-0.2.2 ogb-1.3.6 outdated-0.2.2\n"
          ]
        }
      ],
      "source": [
        "!pip install torch-scatter torch-sparse torch-cluster torch-spline-conv torch-geometric -f https://data.pyg.org/whl/torch-2.1.0+cu118.html"
      ]
    },
    {
      "cell_type": "code",
      "execution_count": null,
      "metadata": {
        "id": "i0NEYuxRZorg"
      },
      "outputs": [],
      "source": []
    },
    {
      "cell_type": "code",
      "execution_count": null,
      "metadata": {
        "id": "liNbhUY7Jo6d"
      },
      "outputs": [],
      "source": [
        "from torch_geometric.data import Data\n",
        "from torch_geometric.datasets import EmailEUCore\n",
        "from torch_geometric import nn\n",
        "import torch_geometric.transforms as T\n",
        "import numpy as np\n",
        "import matplotlib.pyplot as plt"
      ]
    },
    {
      "cell_type": "code",
      "execution_count": null,
      "metadata": {
        "id": "JWnLV5BEug-U"
      },
      "outputs": [],
      "source": [
        "def two_subgraphs_weak_ties2(graph, nodes1, nodes2, labels):\n",
        "\n",
        "    list_nodes = list(nodes1) + list(nodes2)\n",
        "    subgraph_1_2=graph.subgraph(list_nodes)\n",
        "\n",
        "    bc_dep1_dep2=nx.edge_betweenness_centrality(subgraph_1_2)\n",
        "\n",
        "    sorted_bc_dep1_dep2 = sorted(bc_dep1_dep2.items(), key=lambda item: item[1], reverse=True) # list of tuples [(edges:tuple, value),(edges:tuple, value)]\n",
        "    # print(sorted_bc_dep1_dep2)\n",
        "\n",
        "    top_edges=[]\n",
        "\n",
        "    for edge_tuple, value in sorted_bc_dep1_dep2:\n",
        "      if len(top_edges) < 5:\n",
        "          if (value != 0.0) and (labels[int(edge_tuple[0])][1] != labels[int(edge_tuple[1])][1]):\n",
        "            top_edges.append(edge_tuple)\n",
        "\n",
        "    if len(top_edges) == 0:\n",
        "        return -1\n",
        "\n",
        "    return top_edges"
      ]
    },
    {
      "cell_type": "code",
      "execution_count": null,
      "metadata": {
        "id": "eGKYi1xU-9IO"
      },
      "outputs": [],
      "source": [
        "##creating edges regardless of departments\n",
        "\n",
        "def create_email_data():\n",
        "\n",
        "  with open('Data/email-Eu-core.txt', 'rb') as f:\n",
        "    graph = nx.read_edgelist(f)\n",
        "\n",
        "  label_all = np.loadtxt('Data/email_labels.txt')\n",
        "\n",
        "  n = graph.number_of_nodes()\n",
        "  edge_labels_most_weakties = np.zeros((n, n),dtype=int)\n",
        "\n",
        "  graph2  = graph.copy()\n",
        "  graph_label_all2 = label_all.copy()\n",
        "  graph_label_all2[:,1] = graph_label_all2[:,1]//6\n",
        "\n",
        "  graph_weak_tie_node = label_all.copy()\n",
        "  graph_weak_tie_node[:,1] = 0\n",
        "\n",
        "  count = 0\n",
        "  for edge in list(graph2.edges()):\n",
        "    if graph_label_all2[int(edge[0])][1] != graph_label_all2[int(edge[1])][1]:\n",
        "      graph2.remove_edge(edge[0], edge[1])\n",
        "      count+=1\n",
        "\n",
        "  for edge in list(graph2.edges()):\n",
        "    edge_labels_most_weakties[int(edge[0]), int(edge[1])] = 1\n",
        "\n",
        "\n",
        "  comps = [comp for comp in nx.connected_components(graph2) if len(comp)>10]\n",
        "  graphs = [graph2.subgraph(comp) for comp in comps]\n",
        "\n",
        "  new_community_labels = label_all.copy()\n",
        "  new_community_labels[:,1] = 0\n",
        "\n",
        "  for index, g in enumerate(graphs):\n",
        "    print(g.number_of_nodes())\n",
        "    for node in g.nodes():\n",
        "      new_community_labels[int(node)][1] = index+1\n",
        "\n",
        "\n",
        "  community_weak_ties_set = []\n",
        "\n",
        "  for g in graphs:\n",
        "    for h in graphs:\n",
        "      list_graph_weak_ties = two_subgraphs_weak_ties2(graph, g.nodes(), h.nodes(), new_community_labels)\n",
        "      if list_graph_weak_ties != -1:\n",
        "        for weak_ties in list_graph_weak_ties:\n",
        "          graph2.add_edge(weak_ties[0], weak_ties[1])\n",
        "          community_weak_ties_set.append(weak_ties)\n",
        "          edge_labels_most_weakties[int(weak_ties[0]), int(weak_ties[1])] = 2\n",
        "          graph_weak_tie_node[int(weak_ties[0])][1] = 1\n",
        "          graph_weak_tie_node[int(weak_ties[1])][1] = 1\n",
        "\n",
        "\n",
        "  n = graph2.number_of_nodes()\n",
        "  node_features = np.ones((n, 1))\n",
        "\n",
        "\n",
        "  return graph2, node_features, graph_label_all2, new_community_labels, graph_weak_tie_node, edge_labels_most_weakties,\n"
      ]
    },
    {
      "cell_type": "code",
      "execution_count": null,
      "metadata": {
        "id": "q-yx_VdAUMam"
      },
      "outputs": [],
      "source": [
        "def nx_to_tg_data(graph, feature, node_labels = None, edge_labels=None):\n",
        "  data_list = []\n",
        "  graph = graph.copy()\n",
        "  # graph.remove_edges_from(graph.selfloop_edges())\n",
        "\n",
        "  # relabel graphs\n",
        "  keys = list(graph.nodes)\n",
        "  vals = range(graph.number_of_nodes())\n",
        "  mapping = dict(zip(keys, vals))\n",
        "  nx.relabel_nodes(graph, mapping, copy=False)\n",
        "\n",
        "  x = np.zeros(feature.shape)\n",
        "\n",
        "  graph_nodes = list(graph.nodes)\n",
        "  for m in range(feature.shape[0]):\n",
        "      x[graph_nodes[m]] = feature[m]\n",
        "  x = torch.from_numpy(x).float()\n",
        "\n",
        "  if node_labels is not None:\n",
        "    y = np.zeros(graph.number_of_nodes())\n",
        "    for m in range(graph.number_of_nodes()):\n",
        "      y[graph_nodes[m]] = node_labels[:,1][m]\n",
        "    y = torch.from_numpy(y).float()\n",
        "\n",
        "  # get edges\n",
        "  edge_index = np.array(list(graph.edges))\n",
        "  edge_index = np.concatenate((edge_index, edge_index[:,::-1]), axis=0)\n",
        "  edge_index = torch.from_numpy(edge_index).long().permute(1,0)\n",
        "\n",
        "\n",
        "  data = Data(x=x, y=y, edge_index=edge_index)\n",
        "\n",
        "  for i, variable in enumerate([x, y, edge_index]):\n",
        "    with open(file_paths[i], 'w') as file:\n",
        "        file.write(str(variable))\n",
        "\n",
        "\n",
        "  return data"
      ]
    },
    {
      "cell_type": "code",
      "execution_count": null,
      "metadata": {
        "colab": {
          "base_uri": "https://localhost:8080/"
        },
        "id": "6DP20jYOgm-E",
        "outputId": "c58f079c-9020-48c7-9db1-afd70c1e0770"
      },
      "outputs": [
        {
          "name": "stdout",
          "output_type": "stream",
          "text": [
            "245\n",
            "139\n",
            "32\n",
            "223\n",
            "186\n",
            "37\n",
            "58\n"
          ]
        }
      ],
      "source": [
        "email_graph,email_node_features , email_graph_label, email_new_community_labels, weak_tie_node_label, edge_labels_most_weakties =create_email_data()"
      ]
    },
    {
      "cell_type": "code",
      "execution_count": null,
      "metadata": {
        "colab": {
          "base_uri": "https://localhost:8080/",
          "height": 641
        },
        "id": "Eg1jw-PVjzvl",
        "outputId": "e93fa661-e664-4e77-f8fa-4c0d69843652"
      },
      "outputs": [
        {
          "name": "stdout",
          "output_type": "stream",
          "text": [
            "[[0.000e+00 1.000e+00]\n",
            " [1.000e+00 1.000e+00]\n",
            " [2.000e+00 2.000e+00]\n",
            " ...\n",
            " [1.002e+03 0.000e+00]\n",
            " [1.003e+03 5.000e+00]\n",
            " [1.004e+03 2.000e+00]]\n"
          ]
        },
        {
          "data": {
            "image/png": "[encoded data removed]",
            "text/plain": [
              "<Figure size 640x480 with 1 Axes>"
            ]
          },
          "metadata": {},
          "output_type": "display_data"
        }
      ],
      "source": [
        "\n",
        "print(email_new_community_labels)\n",
        "email_graph.remove_edges_from(nx.selfloop_edges(email_graph))\n",
        "email_graph.remove_nodes_from(list(nx.isolates(email_graph)))\n",
        "\n",
        "# Draw the graph\n",
        "pos = nx.spring_layout(email_graph)  # You can choose a different layout if needed\n",
        "nx.draw(email_graph, pos, with_labels=False, node_size=20, node_color=\"skyblue\", font_size=10, font_color=\"black\", font_weight=\"bold\", edge_color=\"gray\", linewidths=0.5, alpha=0.7)\n",
        "\n",
        "# Show the plot\n",
        "plt.show()"
      ]
    },
    {
      "cell_type": "code",
      "execution_count": null,
      "metadata": {
        "id": "pK7ii2GdjC5I"
      },
      "outputs": [],
      "source": [
        "#covert graph to data object of pytorch.\n",
        "email_data = nx_to_tg_data(email_graph, email_node_features, weak_tie_node_label)"
      ]
    },
    {
      "cell_type": "code",
      "execution_count": null,
      "metadata": {
        "id": "LC3n-LthCNKX"
      },
      "outputs": [],
      "source": [
        "edge_attr_dim = 1\n",
        "edge_attr = torch.ones((email_data.edge_index.size(1), edge_attr_dim))\n",
        "\n",
        "edge_labels = torch.zeros(len(email_data.edge_index[0]))\n",
        "\n",
        "\n",
        "edge_list = [(src.item(), target.item()) for src, target in email_data.edge_index.t()]\n",
        "\n",
        "for i, (src, target) in enumerate(edge_list):\n",
        "    if email_data.y[src] == 1 and email_data.y[target] == 1:\n",
        "      edge_labels[i] = 2\n",
        "    elif email_data.y[src] == 1 and email_data.y[target] == 0:\n",
        "        edge_labels[i] = 1\n"
      ]
    },
    {
      "cell_type": "code",
      "execution_count": null,
      "metadata": {
        "id": "nheVVWbzDnOc"
      },
      "outputs": [],
      "source": [
        "email_data.edge_labels=edge_labels\n",
        "email_data.edge_attr=edge_attr"
      ]
    },
    {
      "cell_type": "code",
      "execution_count": null,
      "metadata": {
        "id": "ShJStj76fx5J"
      },
      "outputs": [],
      "source": [
        "#safe email data object\n",
        "import pickle\n",
        "def save_data(data, filename):\n",
        "    with open(filename, 'wb') as file:\n",
        "        pickle.dump(data, file)"
      ]
    },
    {
      "cell_type": "code",
      "execution_count": null,
      "metadata": {
        "id": "j_ZFHwG9DinF"
      },
      "outputs": [],
      "source": [
        "save_data(email_data, 'email_data.pkl')"
      ]
    },
    {
      "cell_type": "code",
      "execution_count": null,
      "metadata": {
        "id": "zcLB5luzZpl0"
      },
      "outputs": [],
      "source": [
        "#split datases:\n",
        "import torch_geometric.transforms as T\n",
        "\n",
        "split = T.RandomNodeSplit(num_val=0.15, num_test=0.15)\n",
        "email_data2= split(email_data)\n",
        "save_data(email_data, 'email_data2.pkl')"
      ]
    }
  ],
  "metadata": {
    "colab": {
      "provenance": []
    },
    "kernelspec": {
      "display_name": "Python 3",
      "name": "python3"
    },
    "language_info": {
      "name": "python"
    }
  },
  "nbformat": 4,
  "nbformat_minor": 0
}
